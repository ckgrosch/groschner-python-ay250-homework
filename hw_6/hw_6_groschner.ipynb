{
 "cells": [
  {
   "cell_type": "markdown",
   "metadata": {},
   "source": [
    "**Kate Groschner** <br>\n",
    "**AY250 Homework 6**"
   ]
  },
  {
   "cell_type": "markdown",
   "metadata": {},
   "source": [
    "## Question 1"
   ]
  },
  {
   "cell_type": "markdown",
   "metadata": {},
   "source": [
    "**Feature 1**"
   ]
  },
  {
   "cell_type": "code",
   "execution_count": 169,
   "metadata": {},
   "outputs": [],
   "source": [
    "import numpy as np\n",
    "import matplotlib.pyplot as plt\n",
    "import skimage \n",
    "from skimage import io\n",
    "from skimage.color import rgb2gray\n",
    "import os\n",
    "from skimage import filters\n",
    "from skimage import feature\n",
    "from skimage.util import invert\n",
    "from skimage.morphology import skeletonize"
   ]
  },
  {
   "cell_type": "code",
   "execution_count": 7,
   "metadata": {},
   "outputs": [],
   "source": [
    "def import_exImg():\n",
    "    sample_images = {}\n",
    "    if os.getcwd().split('/')[-1] != '50_categories':\n",
    "        exit()\n",
    "    files = os.listdir()\n",
    "    for idx, direct in enumerate(files):\n",
    "        if idx == 0:\n",
    "            pass\n",
    "        else:\n",
    "            os.chdir(direct)\n",
    "            file = os.listdir()[0]\n",
    "            img = io.imread(file)\n",
    "            sample_images[direct] = img\n",
    "            os.chdir('..')\n",
    "    print('Done!')\n",
    "    return(sample_images)"
   ]
  },
  {
   "cell_type": "code",
   "execution_count": 246,
   "metadata": {},
   "outputs": [
    {
     "data": {
      "text/plain": [
       "'/Users/kategroschner/Documents/Berkeley2017_2018/AY250/python-ay250-homework/hw_6/50_categories'"
      ]
     },
     "execution_count": 246,
     "metadata": {},
     "output_type": "execute_result"
    }
   ],
   "source": [
    "os.getcwd()"
   ]
  },
  {
   "cell_type": "code",
   "execution_count": 247,
   "metadata": {},
   "outputs": [
    {
     "name": "stdout",
     "output_type": "stream",
     "text": [
      "Done!\n"
     ]
    }
   ],
   "source": [
    "files = os.listdir()\n",
    "sample_images = import_exImg()"
   ]
  },
  {
   "cell_type": "code",
   "execution_count": 13,
   "metadata": {},
   "outputs": [],
   "source": [
    "def avg_red(img):\n",
    "    if len(img.shape) == 3:\n",
    "        avg = img[:,0].mean()\n",
    "    return avg"
   ]
  },
  {
   "cell_type": "code",
   "execution_count": 20,
   "metadata": {},
   "outputs": [],
   "source": [
    "def avg_blue(img):\n",
    "    if len(img.shape) == 3:\n",
    "        avg = img[:,1].mean()\n",
    "    return avg"
   ]
  },
  {
   "cell_type": "code",
   "execution_count": 21,
   "metadata": {},
   "outputs": [],
   "source": [
    "def avg_green(img):\n",
    "    if len(img.shape) == 3:\n",
    "        avg = img[:,2].mean()\n",
    "    return avg"
   ]
  },
  {
   "cell_type": "code",
   "execution_count": 27,
   "metadata": {},
   "outputs": [],
   "source": [
    "# edges from sobel\n",
    "def sobel_edges(image):\n",
    "    edges = filters.sobel(rgb2gray(image))\n",
    "    edge_hist = plt.hist(edges,bins=250)\n",
    "    return edge_hist"
   ]
  },
  {
   "cell_type": "code",
   "execution_count": 248,
   "metadata": {},
   "outputs": [],
   "source": [
    "# number of blobs from difference of gaussian\n",
    "def blobs_dog(image):\n",
    "    image_gray = rgb2gray(image)\n",
    "    blob = feature.blob_dog(image_gray, max_sigma=50, threshold=.1)\n",
    "    blobs = blob[:,2]\n",
    "    avg_blob = blobs.mean()\n",
    "    num_blobs = len(blobs)\n",
    "    return avg_blob, num_blobs"
   ]
  },
  {
   "cell_type": "code",
   "execution_count": 249,
   "metadata": {},
   "outputs": [],
   "source": [
    "def blobs_log(image):\n",
    "    image_gray = rgb2gray(image)\n",
    "    blob = feature.blob_log(image_gray, max_sigma=5, num_sigma=10, threshold=.1)\n",
    "    blobs = blob[:,2]\n",
    "    avg_blob = blobs.mean()\n",
    "    num_blobs = len(blobs)\n",
    "    return avg_blob, num_blobs"
   ]
  },
  {
   "cell_type": "code",
   "execution_count": 250,
   "metadata": {},
   "outputs": [],
   "source": [
    "def fft_hist(image):\n",
    "    fft = np.fft.fft2(image)\n",
    "    fhist = plt.hist(fft,bins=250)\n",
    "    return fhist"
   ]
  },
  {
   "cell_type": "code",
   "execution_count": 251,
   "metadata": {},
   "outputs": [],
   "source": [
    "def lbp_hist(image):\n",
    "    lbp = feature.local_binary_pattern(rgb2gray(image),30,30)\n",
    "    lhist = plt.hist(lbp,bins=250)\n",
    "    return lhist"
   ]
  },
  {
   "cell_type": "code",
   "execution_count": null,
   "metadata": {},
   "outputs": [],
   "source": []
  }
 ],
 "metadata": {
  "anaconda-cloud": {},
  "kernelspec": {
   "display_name": "Python [default]",
   "language": "python",
   "name": "python3"
  },
  "language_info": {
   "codemirror_mode": {
    "name": "ipython",
    "version": 3
   },
   "file_extension": ".py",
   "mimetype": "text/x-python",
   "name": "python",
   "nbconvert_exporter": "python",
   "pygments_lexer": "ipython3",
   "version": "3.6.4"
  }
 },
 "nbformat": 4,
 "nbformat_minor": 2
}
