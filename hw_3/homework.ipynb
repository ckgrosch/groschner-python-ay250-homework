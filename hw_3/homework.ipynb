{
 "cells": [
  {
   "cell_type": "markdown",
   "metadata": {},
   "source": [
    "## Kate Groschner\n",
    "## AY250 Homework 3"
   ]
  },
  {
   "cell_type": "markdown",
   "metadata": {},
   "source": [
    "# 1) Monty: The Python Siri\n",
    "\n",
    "Let's make a Siri-like program (call it Monty!) with the following properties:\n",
    "   - record your voice command\n",
    "   - use a webservice to parse that sound file into text\n",
    "   - based on what the text, take three different types of actions:\n",
    "       - send an email to yourself\n",
    "       - do some math\n",
    "       - tell a joke\n",
    "\n",
    "So for example, if you say \"Monty: email me with subject hello and body goodbye\", it will email you with the appropriate subject and body. If you say \"Monty: tell me a joke\" then it will go to the web and find a joke and print it for you. If you say, \"Monty: calculate two times three\" it should response with printing the number 6.\n",
    "\n",
    "Hint: you can use speed-to-text apps like Houndify (or, e.g., Google Speech https://cloud.google.com/speech/) to return the text (but not do the actions). You'll need to sign up for a free API and then follow documentation instructions for using the service within Python. "
   ]
  },
  {
   "cell_type": "markdown",
   "metadata": {
    "collapsed": true
   },
   "source": [
    "# Question 1\n",
    "My strategy for this question is to use the audio recording script Prof. Bloom showed in class. Send this to a houndify to parse, this portion was written mostly using the documentation provided by houndify. Taking the output text from houndify is put into a list format after determining the type of request. This part of the script is essentially a decision tree that leads to the last step that either a) uses stmp to send an email or b) does the math (which will also have a tree of if statements to figure out order of operations etc), or finally c) use request/soup to go to a website and get jokes\n",
    "\n",
    "The math portion can take in directions in several ways:\n",
    "    addition can either be directed as \"number plus number\" or \"add number and number\"\n",
    "    subtraction can be \"number minus number\" or \"subtract number from number\"\n",
    "    multiplication can be \"number times number\" or \"multiply number and number\"\n",
    "    division is given as \"number divided by number\"\n",
    "\n",
    "The email segment requires the following verbal format:\n",
    "    \"email me subject FILL IN and body FILL IN\"\n",
    "    As long as you say email before any other command including joke, add, times etc. the program will email you and \n",
    "    not follow the later command\n",
    "    \n",
    "The joke segment only requires that you say \"joke\" and do not activate any of the other functionalities \n",
    "\n",
    "    "
   ]
  },
  {
   "cell_type": "code",
   "execution_count": 115,
   "metadata": {},
   "outputs": [
    {
     "name": "stdout",
     "output_type": "stream",
     "text": [
      "* recording\n",
      "* done recording\n"
     ]
    }
   ],
   "source": [
    "#Audio recording portion taken from lecture notes and cross referenced with the PyAudio example documentation\n",
    "import pyaudio \n",
    "import wave\n",
    "\n",
    "chunk = 1024\n",
    "FORMAT = pyaudio.paInt16\n",
    "CHANNELS = 1\n",
    "RATE = 16000\n",
    "RECORD_SECONDS = 5\n",
    "WAVE_OUTPUT_FILENAME = \"test1.wav\"\n",
    "p = pyaudio.PyAudio()\n",
    "stream = p.open(format = FORMAT,\n",
    "    channels = CHANNELS,\n",
    "    rate = RATE,\n",
    "    input = True,\n",
    "    frames_per_buffer = chunk)\n",
    "print(\"* recording\")\n",
    "frames = []\n",
    "for i in range(0, int(RATE / chunk * RECORD_SECONDS)):\n",
    "    data = stream.read(chunk)\n",
    "    frames.append(data)\n",
    "print(\"* done recording\")\n",
    "stream.close()\n",
    "p.terminate()\n",
    "\n",
    "wf = wave.open(WAVE_OUTPUT_FILENAME, 'wb')\n",
    "wf.setnchannels(CHANNELS)\n",
    "wf.setsampwidth(p.get_sample_size(FORMAT))\n",
    "wf.setframerate(RATE)\n",
    "wf.writeframes(b''.join(frames))\n",
    "wf.close()"
   ]
  },
  {
   "cell_type": "code",
   "execution_count": 116,
   "metadata": {},
   "outputs": [
    {
     "name": "stdout",
     "output_type": "stream",
     "text": [
      "Final response: {'Format': 'SoundHoundVoiceSearchResult', 'FormatVersion': '1.0', 'Status': 'OK', 'NumToReturn': 1, 'AllResults': [{'CommandKind': 'SpeechToTextOnlyCommand', 'SpokenResponse': 'manti what is two plus two', 'SpokenResponseLong': 'manti what is two plus two', 'WrittenResponse': 'Manti what is two plus two', 'WrittenResponseLong': 'Manti what is two plus two', 'AutoListen': False, 'ViewType': ['Native', 'None'], 'RawTranscription': 'manti what is two plus two', 'FormattedTranscription': 'Manti what is two plus two', 'NativeData': {'RawTranscription': 'manti what is two plus two', 'FormattedTranscription': 'Manti what is two plus two'}}], 'Disambiguation': {'NumToShow': 1, 'ChoiceData': [{'Transcription': 'manti what is two plus two', 'ConfidenceScore': 1, 'FixedTranscription': 'manti what is two plus two'}]}, 'ResultsAreFinal': [True], 'DomainUsage': [{'Domain': 'Speech To Text Only', 'DomainUniqueID': '3224afd8-821b-4e3e-b206-d92d160048cb', 'CreditsUsed': 0}], 'BuildInfo': {'User': 'knightly', 'Date': 'Wed Feb 14 01:30:21 PST 2018', 'Machine': '7fhpjh2.pnp.melodis.com', 'SVNRevision': '40390', 'SVNBranch': 'dev_multi_machine', 'BuildNumber': '4845', 'Kind': 'Low Fat', 'Variant': 'release'}, 'QueryID': 'bbb93313-ac6f-6473-23af-29de84e907fa', 'ServerGeneratedId': 'bbb93313-ac6f-6473-23af-29de84e907fa', 'AudioLength': 4.96999979019165, 'RealSpeechTime': 2.098, 'RealTime': 2.102}\n"
     ]
    }
   ],
   "source": [
    "#do the speech to text inquiry\n",
    "import houndify\n",
    "import wave\n",
    "import time\n",
    "\n",
    "CLIENT_ID = \"yfAFR0XPoFNY4IRJh6RJJg==\"\n",
    "CLIENT_KEY = \"sFhkKk6xA3tGW_Cl2VjM_FYI-guJmDwiCJonbBpiUa1LDVem1rA02pAZApejN1wxc4zpOLjLtZj43OA4ZdZ0Eg==\"\n",
    "AUDIO_FILE = \"test1.wav\"\n",
    "BUFFER_SIZE = 512\n",
    "\n",
    "class MyListener(houndify.HoundListener):\n",
    "  def onPartialTranscript(self, transcript):\n",
    "#     print(\"Partial transcript: \" + transcript)\n",
    "      return \n",
    "  def onFinalResponse(self, response):\n",
    "    print(\"Final response: \" + str(response))\n",
    "  def onError(self, err):\n",
    "    print(\"Error: \" + str(err))\n",
    "\n",
    "client = houndify.StreamingHoundClient(CLIENT_ID, CLIENT_KEY, \"test_user\")\n",
    "audio = wave.open(AUDIO_FILE)\n",
    "if audio.getsampwidth() != 2:\n",
    "  print(\"%s: wrong sample width (must be 16-bit)\" % AUDIO_FILE)\n",
    "if audio.getframerate() != 8000 and audio.getframerate() != 16000:\n",
    "  print(\"%s: unsupported sampling frequency (must be either 8 or 16 khz)\" % AUDIO_FILE)\n",
    "if audio.getnchannels() != 1:\n",
    "  print(\"%s: must be single channel (mono)\" % AUDIO_FILE)\n",
    "\n",
    "client.setSampleRate(audio.getframerate())\n",
    "client.start(MyListener())\n",
    "\n",
    "while True:\n",
    "  samples = audio.readframes(BUFFER_SIZE)\n",
    "  if len(samples) == 0: break\n",
    "  if client.fill(samples): break\n",
    "  \n",
    "       \n",
    "result = client.finish() # returns either final response or error\n"
   ]
  },
  {
   "cell_type": "code",
   "execution_count": 138,
   "metadata": {},
   "outputs": [
    {
     "data": {
      "text/plain": [
       "'p'"
      ]
     },
     "execution_count": 138,
     "metadata": {},
     "output_type": "execute_result"
    }
   ],
   "source": [
    "result['AllResults'][0]['FormattedTranscription'][18]"
   ]
  },
  {
   "cell_type": "code",
   "execution_count": null,
   "metadata": {},
   "outputs": [],
   "source": [
    "import smtplib\n",
    "import os\n",
    "from email.mime.multipart import MIMEMultipart\n",
    "from email.mime.base import MIMEBase\n",
    "from email.mime.text import MIMEText\n",
    "from email import encoders\n",
    "from email.utils import COMMASPACE, formatdate\n",
    "\n",
    "def mail(sender, pwd, to, subject, text, files=[]):\n",
    "    msg = MIMEMultipart()\n",
    "    msg[\"From\"] = sender\n",
    "    msg[\"To\"] = COMMASPACE.join(to)\n",
    "    msg[\"Date\"] = formatdate(localtime=True)\n",
    "    msg[\"Subject\"] = subject\n",
    "    msg.attach(MIMEText(text))\n",
    "    for file in files:\n",
    "        part = MIMEBase(\"application\", \"octet-stream\")\n",
    "        part.set_payload( open(file,\"rb\").read() )\n",
    "        Encoders.encode_base64(part)\n",
    "        part.add_header(\"Content-Disposition\", \"attachment; filename='%s'\"\n",
    "                       % os.path.basename(file))\n",
    "        msg.attach(part)\n",
    "    # Note that we need to designate the remote SMTP server we want to use.\n",
    "    mailServer = smtplib.SMTP_SSL('smtp.gmail.com', 465)\n",
    "    mailServer.login(sender, pwd)\n",
    "    mailServer.starttls()\n",
    "    mailServer.sendmail(sender, to, msg.as_string())\n",
    "    mailServer.close()"
   ]
  },
  {
   "cell_type": "code",
   "execution_count": 134,
   "metadata": {},
   "outputs": [],
   "source": [
    "mail(sender=\"cgroschner@gmail.com\", \n",
    "    pwd=\"3.141596\", \n",
    "    to=[\"ckgroschner@gmail.com\",],   # include an extra comma in the \"to\" list to \n",
    "                                   # account for the COMMASPACE.join(to)\n",
    "    subject=\"Email from Python\", \n",
    "    text=\"Whoooo!\\n\"\n",
    "    )"
   ]
  },
  {
   "cell_type": "code",
   "execution_count": 189,
   "metadata": {},
   "outputs": [],
   "source": [
    "result2 = \"email me add\""
   ]
  },
  {
   "cell_type": "code",
   "execution_count": 177,
   "metadata": {},
   "outputs": [],
   "source": [
    "def sntc_type(result):\n",
    "    \"\"\"This function takes in the result returned from houndify and will return a list of the words in that text \\\n",
    "    and a classification of whether asking for math, email, or joke\"\"\"\n",
    "#     sentence = result['AllResults'][0]['FormattedTranscription']\n",
    "    sentence = result\n",
    "    if 'email' in sentence:\n",
    "        sntcType = 'email'\n",
    "    elif 'plus' in sentence:\n",
    "        sntcType = \"addition\"\n",
    "    elif 'add' in sentence:\n",
    "        sntcType = \"addition\"\n",
    "    elif 'time' in sentence:\n",
    "        sntcType = 'multiplication'\n",
    "    elif 'multiply' in sentence:\n",
    "        sntcType = 'multiplication'\n",
    "    elif 'minus' in sentence:\n",
    "        sntcType = 'subtraction'\n",
    "    elif 'subtract' in sentence:\n",
    "        sntcType = 'subtraction'\n",
    "    elif 'divid' in sentence:\n",
    "        sntcType = 'division'\n",
    "    elif 'joke' in sentence:\n",
    "        sntcType = 'joke'\n",
    "    else:\n",
    "        print('Inquiry not of valid type. Please record your question again.')\n",
    "        sntcType = 'Invalid'\n",
    "    sntcList = sentence.split(\" \")\n",
    "    return sntcType, sntcList"
   ]
  },
  {
   "cell_type": "code",
   "execution_count": 190,
   "metadata": {},
   "outputs": [
    {
     "data": {
      "text/plain": [
       "('email', ['email', 'me', 'add'])"
      ]
     },
     "execution_count": 190,
     "metadata": {},
     "output_type": "execute_result"
    }
   ],
   "source": [
    "sntc_type(result2)"
   ]
  },
  {
   "cell_type": "code",
   "execution_count": null,
   "metadata": {},
   "outputs": [],
   "source": [
    "#Here I define a math function to call to handle requests to do math\n",
    "def monty_add(listIn):\n",
    "    if 'plus' in listIn:\n",
    "        idx = listIn.index('plus')\n",
    "        answer = listIn[idx-1] + listIn[idx+1]\n",
    "        print('The answer is {}'.format(answer))\n",
    "    elif 'add' in listIn:\n",
    "        idx = listIn.index('add')\n",
    "        answer = listIn[idx+1] + listIn[idx+3]"
   ]
  },
  {
   "cell_type": "code",
   "execution_count": 195,
   "metadata": {},
   "outputs": [],
   "source": [
    "#Portion of the code to grab jokes from a website.\n",
    "def monty_joke():\n",
    "    from urllib.request import urlopen\n",
    "    from bs4 import BeautifulSoup\n",
    "    import json\n",
    "    from random import randint\n",
    "    jk_url = 'http://pun.me/pages/dad-jokes.php'\n",
    "    response = urlopen(jk_url)\n",
    "    jk = response.read().decode('-utf-8')\n",
    "    response.close()\n",
    "    jk_soup = BeautifulSoup(jk,\"html.parser\")\n",
    "    items = jk_soup.findAll(\"li\")\n",
    "    #now that I have a list of all the content items from the page I want to strip the html off\n",
    "    #and the items that are buttons to other pages and just have strings\n",
    "    jokes  = [i.text.strip() for i in items if \"<a href=\" not in str(i)]\n",
    "    idx = randint(0,39)\n",
    "    print(jokes[idx])"
   ]
  },
  {
   "cell_type": "code",
   "execution_count": 196,
   "metadata": {},
   "outputs": [
    {
     "name": "stdout",
     "output_type": "stream",
     "text": [
      "What do you call a Mexican who has lost his car? Carlos.\n"
     ]
    }
   ],
   "source": [
    "monty_joke()"
   ]
  },
  {
   "cell_type": "markdown",
   "metadata": {},
   "source": [
    "# 2) Write a program that identifies musical notes from sound (AIFF) files. \n",
    "\n",
    "  - Run it on the supplied sound files (12) and report your program’s results. \n",
    "  - Use the labeled sounds (4) to make sure it works correctly. The provided sound files contain 1-3 simultaneous notes from different organs.\n",
    "  - Save copies of any example plots to illustrate how your program works.\n",
    "  \n",
    "  https://piazza.com/berkeley/spring2018/ay250class13410/resources -> Homeworks -> hw3_sound_files.zip"
   ]
  },
  {
   "cell_type": "markdown",
   "metadata": {},
   "source": [
    "Hints: You’ll want to decompose the sound into a frequency power spectrum. Use a Fast Fourier Transform. Be care about “unpacking” the string hexcode into python data structures. The sound files use 32 bit data. Play around with what happens when you convert the string data to other integer sizes, or signed vs unsigned integers. Also, beware of harmonics."
   ]
  },
  {
   "cell_type": "code",
   "execution_count": null,
   "metadata": {
    "collapsed": true
   },
   "outputs": [],
   "source": []
  }
 ],
 "metadata": {
  "anaconda-cloud": {},
  "kernelspec": {
   "display_name": "Python [default]",
   "language": "python",
   "name": "python3"
  },
  "language_info": {
   "codemirror_mode": {
    "name": "ipython",
    "version": 3
   },
   "file_extension": ".py",
   "mimetype": "text/x-python",
   "name": "python",
   "nbconvert_exporter": "python",
   "pygments_lexer": "ipython3",
   "version": "3.6.4"
  }
 },
 "nbformat": 4,
 "nbformat_minor": 1
}
