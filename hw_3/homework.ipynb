{
 "cells": [
  {
   "cell_type": "markdown",
   "metadata": {},
   "source": [
    "## Kate Groschner\n",
    "## AY250 Homework 3"
   ]
  },
  {
   "cell_type": "markdown",
   "metadata": {},
   "source": [
    "# 1) Monty: The Python Siri\n",
    "\n",
    "Let's make a Siri-like program (call it Monty!) with the following properties:\n",
    "   - record your voice command\n",
    "   - use a webservice to parse that sound file into text\n",
    "   - based on what the text, take three different types of actions:\n",
    "       - send an email to yourself\n",
    "       - do some math\n",
    "       - tell a joke\n",
    "\n",
    "So for example, if you say \"Monty: email me with subject hello and body goodbye\", it will email you with the appropriate subject and body. If you say \"Monty: tell me a joke\" then it will go to the web and find a joke and print it for you. If you say, \"Monty: calculate two times three\" it should response with printing the number 6.\n",
    "\n",
    "Hint: you can use speed-to-text apps like Houndify (or, e.g., Google Speech https://cloud.google.com/speech/) to return the text (but not do the actions). You'll need to sign up for a free API and then follow documentation instructions for using the service within Python. "
   ]
  },
  {
   "cell_type": "markdown",
   "metadata": {
    "collapsed": true
   },
   "source": [
    "# Question 1\n",
    "My strategy for this question is to use the audio recording script Prof. Bloom showed in class. Send this to a webservice to parse, this will probably be done using request library to interact between the two. Taking the output text will be put into a list format if necessary in order to use python builtins to look at if the text contains certain words. This part of the script will most likely be a decision tree that leads to the last step that either a) uses stmp to send an email or b) does the math (which will also have a tree of if statements to figure out order of operations etc), or finally c) use request/soup to go to a website and get jokes"
   ]
  },
  {
   "cell_type": "code",
   "execution_count": 115,
   "metadata": {},
   "outputs": [
    {
     "name": "stdout",
     "output_type": "stream",
     "text": [
      "* recording\n",
      "* done recording\n"
     ]
    }
   ],
   "source": [
    "#Audio recording portion taken from lecture notes and cross referenced with the PyAudio example documentation\n",
    "import pyaudio \n",
    "import wave\n",
    "\n",
    "chunk = 1024\n",
    "FORMAT = pyaudio.paInt16\n",
    "CHANNELS = 1\n",
    "RATE = 16000\n",
    "RECORD_SECONDS = 5\n",
    "WAVE_OUTPUT_FILENAME = \"test1.wav\"\n",
    "p = pyaudio.PyAudio()\n",
    "stream = p.open(format = FORMAT,\n",
    "    channels = CHANNELS,\n",
    "    rate = RATE,\n",
    "    input = True,\n",
    "    frames_per_buffer = chunk)\n",
    "print(\"* recording\")\n",
    "frames = []\n",
    "for i in range(0, int(RATE / chunk * RECORD_SECONDS)):\n",
    "    data = stream.read(chunk)\n",
    "    frames.append(data)\n",
    "print(\"* done recording\")\n",
    "stream.close()\n",
    "p.terminate()\n",
    "\n",
    "wf = wave.open(WAVE_OUTPUT_FILENAME, 'wb')\n",
    "wf.setnchannels(CHANNELS)\n",
    "wf.setsampwidth(p.get_sample_size(FORMAT))\n",
    "wf.setframerate(RATE)\n",
    "wf.writeframes(b''.join(frames))\n",
    "wf.close()"
   ]
  },
  {
   "cell_type": "code",
   "execution_count": 116,
   "metadata": {},
   "outputs": [
    {
     "name": "stdout",
     "output_type": "stream",
     "text": [
      "Final response: {'Format': 'SoundHoundVoiceSearchResult', 'FormatVersion': '1.0', 'Status': 'OK', 'NumToReturn': 1, 'AllResults': [{'CommandKind': 'SpeechToTextOnlyCommand', 'SpokenResponse': 'manti what is two plus two', 'SpokenResponseLong': 'manti what is two plus two', 'WrittenResponse': 'Manti what is two plus two', 'WrittenResponseLong': 'Manti what is two plus two', 'AutoListen': False, 'ViewType': ['Native', 'None'], 'RawTranscription': 'manti what is two plus two', 'FormattedTranscription': 'Manti what is two plus two', 'NativeData': {'RawTranscription': 'manti what is two plus two', 'FormattedTranscription': 'Manti what is two plus two'}}], 'Disambiguation': {'NumToShow': 1, 'ChoiceData': [{'Transcription': 'manti what is two plus two', 'ConfidenceScore': 1, 'FixedTranscription': 'manti what is two plus two'}]}, 'ResultsAreFinal': [True], 'DomainUsage': [{'Domain': 'Speech To Text Only', 'DomainUniqueID': '3224afd8-821b-4e3e-b206-d92d160048cb', 'CreditsUsed': 0}], 'BuildInfo': {'User': 'knightly', 'Date': 'Wed Feb 14 01:30:21 PST 2018', 'Machine': '7fhpjh2.pnp.melodis.com', 'SVNRevision': '40390', 'SVNBranch': 'dev_multi_machine', 'BuildNumber': '4845', 'Kind': 'Low Fat', 'Variant': 'release'}, 'QueryID': 'bbb93313-ac6f-6473-23af-29de84e907fa', 'ServerGeneratedId': 'bbb93313-ac6f-6473-23af-29de84e907fa', 'AudioLength': 4.96999979019165, 'RealSpeechTime': 2.098, 'RealTime': 2.102}\n"
     ]
    }
   ],
   "source": [
    "#do the speech to text inquiry\n",
    "import houndify\n",
    "import wave\n",
    "import time\n",
    "\n",
    "CLIENT_ID = \"yfAFR0XPoFNY4IRJh6RJJg==\"\n",
    "CLIENT_KEY = \"sFhkKk6xA3tGW_Cl2VjM_FYI-guJmDwiCJonbBpiUa1LDVem1rA02pAZApejN1wxc4zpOLjLtZj43OA4ZdZ0Eg==\"\n",
    "AUDIO_FILE = \"test1.wav\"\n",
    "BUFFER_SIZE = 512\n",
    "\n",
    "class MyListener(houndify.HoundListener):\n",
    "  def onPartialTranscript(self, transcript):\n",
    "#     print(\"Partial transcript: \" + transcript)\n",
    "      return \n",
    "  def onFinalResponse(self, response):\n",
    "    print(\"Final response: \" + str(response))\n",
    "  def onError(self, err):\n",
    "    print(\"Error: \" + str(err))\n",
    "\n",
    "client = houndify.StreamingHoundClient(CLIENT_ID, CLIENT_KEY, \"test_user\")\n",
    "audio = wave.open(AUDIO_FILE)\n",
    "if audio.getsampwidth() != 2:\n",
    "  print(\"%s: wrong sample width (must be 16-bit)\" % AUDIO_FILE)\n",
    "if audio.getframerate() != 8000 and audio.getframerate() != 16000:\n",
    "  print(\"%s: unsupported sampling frequency (must be either 8 or 16 khz)\" % AUDIO_FILE)\n",
    "if audio.getnchannels() != 1:\n",
    "  print(\"%s: must be single channel (mono)\" % AUDIO_FILE)\n",
    "\n",
    "client.setSampleRate(audio.getframerate())\n",
    "client.start(MyListener())\n",
    "\n",
    "while True:\n",
    "  samples = audio.readframes(BUFFER_SIZE)\n",
    "  if len(samples) == 0: break\n",
    "  if client.fill(samples): break\n",
    "  \n",
    "       \n",
    "result = client.finish() # returns either final response or error\n"
   ]
  },
  {
   "cell_type": "code",
   "execution_count": 117,
   "metadata": {},
   "outputs": [
    {
     "data": {
      "text/plain": [
       "'Manti what is two plus two'"
      ]
     },
     "execution_count": 117,
     "metadata": {},
     "output_type": "execute_result"
    }
   ],
   "source": [
    "result['AllResults'][0]['FormattedTranscription']"
   ]
  },
  {
   "cell_type": "code",
   "execution_count": null,
   "metadata": {},
   "outputs": [],
   "source": [
    "#Here I define a math function to call to handle requests to do math\n",
    "def monty_math(text_in):\n",
    "    "
   ]
  },
  {
   "cell_type": "code",
   "execution_count": 76,
   "metadata": {},
   "outputs": [
    {
     "data": {
      "text/plain": [
       "['Did you hear about the restaurant on the moon? Great food, no atmosphere.',\n",
       " 'What do you call a fake noodle? An Impasta.',\n",
       " 'How many apples grow on a tree? All of them.',\n",
       " \"Want to hear a joke about paper? Nevermind it's tearable.\",\n",
       " \"I just watched a program about beavers. It was the best dam program I've ever seen.\",\n",
       " 'Why did the coffee file a police report? It got mugged.',\n",
       " \"How does a penguin build it's house? Igloos it together.\",\n",
       " 'Dad, did you get a haircut? No I got them all cut.',\n",
       " 'What do you call a Mexican who has lost his car? Carlos.',\n",
       " \"Dad, can you put my shoes on? No, I don't think they'll fit me.\",\n",
       " 'Why did the scarecrow win an award? Because he was outstanding in his field.',\n",
       " \"Why don't skeletons ever go trick or treating? Because they have no body to go with.\",\n",
       " \"Ill call you later. Don't call me later, call me Dad.\",\n",
       " \"What do you call an elephant that doesn't matter? An irrelephant\",\n",
       " \"Want to hear a joke about construction? I'm still working on it.\",\n",
       " \"What do you call cheese that isn't yours? Nacho Cheese.\",\n",
       " \"Why couldn't the bicycle stand up by itself? It was two tired.\",\n",
       " 'What did the grape do when he got stepped on? He let out a little wine.',\n",
       " \"I wouldn't buy anything with velcro. It's a total rip-off.\",\n",
       " 'The shovel was a ground-breaking invention.',\n",
       " \"Dad, can you put the cat out? I didn't know it was on fire.\",\n",
       " 'This graveyard looks overcrowded. People must be dying to get in there.',\n",
       " 'Whenever the cashier at the grocery store asks my dad if he would like the milk in a bag he replies, \"No, just leave it in the carton!\"',\n",
       " '5/4 of people admit that they’re bad with fractions.',\n",
       " 'Two goldfish are in a tank. One says to the other, \"do you know how to drive this thing?\"',\n",
       " 'What do you call a man with a rubber toe? Roberto.',\n",
       " 'What do you call a fat psychic? A four-chin teller.',\n",
       " 'I would avoid the sushi if I was you. It’s a little fishy.',\n",
       " \"To the man in the wheelchair that stole my camouflage jacket... You can hide but you can't run.\",\n",
       " 'The rotation of earth really makes my day.',\n",
       " \"I thought about going on an all-almond diet. But that's just nuts\",\n",
       " \"What's brown and sticky? A stick.\",\n",
       " 'I’ve never gone to a gun range before. I decided to give it a shot!',\n",
       " \"Why do you never see elephants hiding in trees? Because they're so good at it.\",\n",
       " \"Did you hear about the kidnapping at school? It's fine, he woke up.\",\n",
       " 'A furniture store keeps calling me. All I wanted was one night stand.',\n",
       " 'I used to work in a shoe recycling shop. It was sole destroying.',\n",
       " 'Did I tell you the time I fell in love during a backflip? I was heels over head.',\n",
       " 'I don’t play soccer because I enjoy the sport. I’m just doing it for kicks.',\n",
       " 'People don’t like having to bend over to get their drinks. We really need to raise the bar.']"
      ]
     },
     "execution_count": 76,
     "metadata": {},
     "output_type": "execute_result"
    }
   ],
   "source": [
    "#Portion of the code to grab jokes from a website.\n",
    "from urllib.request import urlopen\n",
    "from bs4 import BeautifulSoup\n",
    "import json\n",
    "jk_url = 'http://pun.me/pages/dad-jokes.php'\n",
    "response = urlopen(jk_url)\n",
    "jk = response.read().decode('-utf-8')\n",
    "response.close()\n",
    "jk_soup = BeautifulSoup(jk,\"html.parser\")\n",
    "items = jk_soup.findAll(\"li\")\n",
    "#now that I have a list of all the content items from the page I want to strip the html off\n",
    "#and the items that are buttons to other pages and just have strings\n",
    "jokes  = [i.text.strip() for i in items if \"<a href=\" not in str(i)]\n",
    "jokes"
   ]
  },
  {
   "cell_type": "markdown",
   "metadata": {},
   "source": [
    "# 2) Write a program that identifies musical notes from sound (AIFF) files. \n",
    "\n",
    "  - Run it on the supplied sound files (12) and report your program’s results. \n",
    "  - Use the labeled sounds (4) to make sure it works correctly. The provided sound files contain 1-3 simultaneous notes from different organs.\n",
    "  - Save copies of any example plots to illustrate how your program works.\n",
    "  \n",
    "  https://piazza.com/berkeley/spring2018/ay250class13410/resources -> Homeworks -> hw3_sound_files.zip"
   ]
  },
  {
   "cell_type": "markdown",
   "metadata": {},
   "source": [
    "Hints: You’ll want to decompose the sound into a frequency power spectrum. Use a Fast Fourier Transform. Be care about “unpacking” the string hexcode into python data structures. The sound files use 32 bit data. Play around with what happens when you convert the string data to other integer sizes, or signed vs unsigned integers. Also, beware of harmonics."
   ]
  },
  {
   "cell_type": "code",
   "execution_count": null,
   "metadata": {
    "collapsed": true
   },
   "outputs": [],
   "source": []
  }
 ],
 "metadata": {
  "anaconda-cloud": {},
  "kernelspec": {
   "display_name": "Python [default]",
   "language": "python",
   "name": "python3"
  },
  "language_info": {
   "codemirror_mode": {
    "name": "ipython",
    "version": 3
   },
   "file_extension": ".py",
   "mimetype": "text/x-python",
   "name": "python",
   "nbconvert_exporter": "python",
   "pygments_lexer": "ipython3",
   "version": "3.6.4"
  }
 },
 "nbformat": 4,
 "nbformat_minor": 1
}
