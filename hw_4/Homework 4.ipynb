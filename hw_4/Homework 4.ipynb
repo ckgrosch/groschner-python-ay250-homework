{
 "cells": [
  {
   "cell_type": "markdown",
   "metadata": {},
   "source": [
    "**Kate Groschner** <br>\n",
    "**AY250** <br>\n",
    "**Homework 4** <br>"
   ]
  },
  {
   "cell_type": "markdown",
   "metadata": {},
   "source": [
    "## Part A: Definition of the standard serial version of the simulation"
   ]
  },
  {
   "cell_type": "code",
   "execution_count": 1,
   "metadata": {},
   "outputs": [
    {
     "ename": "SyntaxError",
     "evalue": "Missing parentheses in call to 'print'. Did you mean print(\"Pi Approximation:\", pi_approx)? (<ipython-input-1-04da10c87738>, line 19)",
     "output_type": "error",
     "traceback": [
      "\u001b[0;36m  File \u001b[0;32m\"<ipython-input-1-04da10c87738>\"\u001b[0;36m, line \u001b[0;32m19\u001b[0m\n\u001b[0;31m    print \"Pi Approximation:\", pi_approx\u001b[0m\n\u001b[0m                            ^\u001b[0m\n\u001b[0;31mSyntaxError\u001b[0m\u001b[0;31m:\u001b[0m Missing parentheses in call to 'print'. Did you mean print(\"Pi Approximation:\", pi_approx)?\n"
     ]
    }
   ],
   "source": [
    "#Original simulation code\n",
    "from random import uniform\n",
    "from math import sqrt\n",
    "from time import time\n",
    "\n",
    "number_of_darts = 200000\n",
    "number_of_darts_in_circle = 0\n",
    "start_time = time()\n",
    "for n in range(number_of_darts):\n",
    "    x,y = uniform(0,1), uniform(0,1)\n",
    "    if sqrt((x-0.5)**2 + (y - 0.5)**2) <= 0.5:\n",
    "        number_of_darts_in_circle += 1\n",
    "\n",
    "end_time = time()\n",
    "execution_time = end_time - start_time\n",
    "\n",
    "pi_approx = 4 * number_of_darts_in_circle / float(number_of_darts)\n",
    "\n",
    "print(\"Pi Approximation:\", pi_approx)\n",
    "print(\"Number of Darts:\", number_of_darts)\n",
    "print(\"Execution Time (s):\", execution_time)\n",
    "print \"Darts Thrown per Second:\", number_of_darts/execution_time"
   ]
  },
  {
   "cell_type": "code",
   "execution_count": null,
   "metadata": {},
   "outputs": [],
   "source": []
  }
 ],
 "metadata": {
  "anaconda-cloud": {},
  "kernelspec": {
   "display_name": "Python [default]",
   "language": "python",
   "name": "python3"
  },
  "language_info": {
   "codemirror_mode": {
    "name": "ipython",
    "version": 3
   },
   "file_extension": ".py",
   "mimetype": "text/x-python",
   "name": "python",
   "nbconvert_exporter": "python",
   "pygments_lexer": "ipython3",
   "version": "3.6.4"
  }
 },
 "nbformat": 4,
 "nbformat_minor": 2
}
